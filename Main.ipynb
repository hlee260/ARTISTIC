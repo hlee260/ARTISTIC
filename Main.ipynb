{
 "cells": [
  {
   "cell_type": "code",
   "execution_count": 1,
   "id": "c270ce1e-9e46-426f-91bd-aa8c0b61624b",
   "metadata": {},
   "outputs": [
    {
     "name": "stdin",
     "output_type": "stream",
     "text": [
      "Enter target ligand:  MUC1\n"
     ]
    },
    {
     "name": "stdout",
     "output_type": "stream",
     "text": [
      "Protocol saved under: MUC1/aptamer 1_NACL_titration.xlsx\n",
      "\n",
      "Protocol saved under: MUC1/aptamer 2_NACL_titration.xlsx\n",
      "\n",
      "Protocol saved under: MUC1/MUC1-5TR-1_NACL_titration.xlsx\n",
      "\n",
      "Protocol saved under: MUC1/MUC1-5TR-2_NACL_titration.xlsx\n",
      "\n",
      "Protocol saved under: MUC1/MUC1-5TR-3_NACL_titration.xlsx\n",
      "\n",
      "Protocol saved under: MUC1/MUC1-5TR-4_NACL_titration.xlsx\n",
      "\n"
     ]
    }
   ],
   "source": [
    "import os\n",
    "import pandas as pd\n",
    "import ARTISTIC\n",
    "\n",
    "if __name__ == \"__main__\":\n",
    "    db     = ARTISTIC.AptamerDatabase(\"UTexas_Datasheet.xlsx\")\n",
    "    target = input(\"Enter target ligand: \").strip()\n",
    "    hits   = db.search_by_target(target)\n",
    "\n",
    "    # create a directory for this ligand\n",
    "    out_dir = target.replace(\" \", \"_\")\n",
    "    os.makedirs(out_dir, exist_ok=True)\n",
    "\n",
    "    # titration parameters\n",
    "    multipliers     = [0, 1, 2, 2.5, 5, 10, 25, 50, 100]\n",
    "    monovalent_conc = [0, 5, 10, 25, 50, 100]\n",
    "    divalent_conc   = [0, 1, 2, 3, 4, 5]\n",
    "\n",
    "    if hits.empty:\n",
    "        print(f\"No aptamers found for '{target}'.\")\n",
    "    else:\n",
    "        for _, row in hits.iterrows():\n",
    "            name = row.get('name_of_aptamer') or row.get('aptamer_name', '<unnamed>')\n",
    "            kd   = row.get('kd_nm', None)\n",
    "            seq  = row.get('aptamer_sequence', '')\n",
    "            buf  = (\n",
    "                row.get('binding_buffer_conditions')\n",
    "                or row.get('binding_buffer')\n",
    "                or row.get('binding_conditions')\n",
    "                or ''\n",
    "            )\n",
    "            salt, salt_conc = ARTISTIC.highest_salt(buf)\n",
    "\n",
    "            if pd.notna(kd) and salt:\n",
    "                designed, dna_tmpl, ins, ins_comp = ARTISTIC.test_insulations(seq)\n",
    "\n",
    "                if designed:\n",
    "                    # pick conc list & filename\n",
    "                    if salt in (\"NACL\", \"KCL\"):\n",
    "                        conc_list, idx_name = monovalent_conc, f\"[{salt}] (mM) vs [Ligand] (nM)\"\n",
    "                        fname = f\"{name}_{salt}_titration.xlsx\"\n",
    "                    else:\n",
    "                        conc_list, idx_name = divalent_conc, \"[MgCl2] (mM) vs [Ligand] (nM)\"\n",
    "                        fname = f\"{name}_MgCl2_titration.xlsx\"\n",
    "\n",
    "                    # full path inside ligand folder\n",
    "                    out_path = os.path.join(out_dir, fname)\n",
    "\n",
    "                    # build titration table\n",
    "                    table = pd.DataFrame(\n",
    "                        index=conc_list,\n",
    "                        columns=[kd * m for m in multipliers]\n",
    "                    )\n",
    "                    table.index.name = idx_name\n",
    "\n",
    "                    # metadata block\n",
    "                    meta = pd.DataFrame({\n",
    "                        \"Variables\": [\n",
    "                            \"Aptamer\", \"Kd (nM)\", \"Sequence\",\n",
    "                            \"Buffer Conditions\", \"dART template strand\",\n",
    "                            \"Promoter non-template strand\", \"Output non-template strand\"\n",
    "                        ],\n",
    "                        \" \": [\n",
    "                            name, kd, seq,\n",
    "                            buf, dna_tmpl,\n",
    "                            f\"{ARTISTIC.Prom_nt}{ins}\", f\"{ins_comp}{ARTISTIC.Output_nt}\"\n",
    "                        ]\n",
    "                    })\n",
    "\n",
    "                    # write to Excel in the target's folder\n",
    "                    with pd.ExcelWriter(out_path, engine=\"openpyxl\") as writer:\n",
    "                        meta.to_excel(writer, index=False, sheet_name=\"Titration\", startrow=0)\n",
    "                        table.to_excel(writer, sheet_name=\"Titration\", startrow=len(meta) + 2)\n",
    "\n",
    "                    print(f\"Protocol saved under: {out_path}\\n\")\n",
    "                else:\n",
    "                    print(\"\")"
   ]
  },
  {
   "cell_type": "code",
   "execution_count": null,
   "id": "f62d6fd5-ae31-4c01-8896-6834643d3a6f",
   "metadata": {},
   "outputs": [],
   "source": []
  }
 ],
 "metadata": {
  "kernelspec": {
   "display_name": "Python 3 (ipykernel)",
   "language": "python",
   "name": "python3"
  },
  "language_info": {
   "codemirror_mode": {
    "name": "ipython",
    "version": 3
   },
   "file_extension": ".py",
   "mimetype": "text/x-python",
   "name": "python",
   "nbconvert_exporter": "python",
   "pygments_lexer": "ipython3",
   "version": "3.12.7"
  }
 },
 "nbformat": 4,
 "nbformat_minor": 5
}
